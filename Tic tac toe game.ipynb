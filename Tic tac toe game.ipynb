{
 "cells": [
  {
   "cell_type": "markdown",
   "metadata": {},
   "source": [
    "THIS IS A SIMPLE TIC-TAC-TOE GAME\n",
    "\n",
    "Written by AJ Abisola"
   ]
  },
  {
   "cell_type": "code",
   "execution_count": 1,
   "metadata": {},
   "outputs": [],
   "source": [
    "#To display the game board\n",
    "\n",
    "from IPython.display import clear_output\n",
    "def board_display(board):\n",
    "    clear_output() #Gives a flushed updated board always\n",
    "    print(board[1]+'|'+board[2]+'|'+board[3])\n",
    "    print(board[4]+'|'+board[5]+'|'+board[6])\n",
    "    print(board[7]+'|'+board[8]+'|'+board[9])"
   ]
  },
  {
   "cell_type": "code",
   "execution_count": 2,
   "metadata": {},
   "outputs": [],
   "source": [
    "#To start/reset board to default after each game\n",
    "\n",
    "def reset():\n",
    "    global board\n",
    "    board= ['#',' ',' ',' ',' ',' ',' ',' ',' ',' ']"
   ]
  },
  {
   "cell_type": "code",
   "execution_count": 3,
   "metadata": {},
   "outputs": [],
   "source": [
    "#To request player choice before game starts\n",
    "\n",
    "def player_identifier():\n",
    "    identity = 'INCORRECT'\n",
    "    while identity not in ['X','O']:\n",
    "        identity = input('Please select identity( X or O ): ')\n",
    "        identity = identity.upper()\n",
    "    if identity == 'X':\n",
    "        player1 = 'X'\n",
    "        player2 = 'O'\n",
    "        print('Player 1 is X')\n",
    "        print('Player 1 will go first')\n",
    "\n",
    "    else:\n",
    "        player1 = 'O'\n",
    "        player2 = 'X'\n",
    "        print('Player 1 is O')\n",
    "        print('Player 1 will go first')\n",
    "    return(player1,player2)"
   ]
  },
  {
   "cell_type": "code",
   "execution_count": 4,
   "metadata": {},
   "outputs": [],
   "source": [
    "#To check if any player has won a game\n",
    "\n",
    "def check_win():\n",
    "    No1 =[board[1],board[2],board[3]]\n",
    "    No2 =[board[4],board[5],board[6]]\n",
    "    No3 =[board[7],board[8],board[9]]\n",
    "    No4 =[board[1],board[4],board[7]]\n",
    "    No5 =[board[2],board[5],board[8]]\n",
    "    No6 =[board[3],board[6],board[9]]\n",
    "    No7 =[board[3],board[5],board[7]]\n",
    "    No8 =[board[1],board[5],board[9]]\n",
    "    X= ['X','X','X']\n",
    "    O =['O','O','O']\n",
    "    global winner\n",
    "    #confirming all possible ways a win can occur\n",
    "    if No1 == X or No2 == X or No3 == X or No4 == X or No5 == X or No6 == X or No7 == X or No8 == X:\n",
    "        winner = 'X'\n",
    "        return True\n",
    "    elif No1 == O or No2 == O or No3 == O or No4 == O or No5 == O or No6 == O or No7 == O or No8 == O:\n",
    "        winner = 'O'\n",
    "        return True\n",
    "    else:\n",
    "        return False"
   ]
  },
  {
   "cell_type": "code",
   "execution_count": 5,
   "metadata": {},
   "outputs": [],
   "source": [
    "#To receive input from user during the game\n",
    "\n",
    "def player_input(players):\n",
    "    #board = ['#',' ',' ',' ',' ',' ',' ',' ',' ',' ']\n",
    "    accepted =[x for x in range(1,10)]\n",
    "    position = 'WRONG'\n",
    "    global gamestate\n",
    "    gamestate = True\n",
    "    #Gamestate signifies if game is going on or not\n",
    "    \n",
    "    while gamestate == True:\n",
    "        #players is a tuple containing the two players. Generated from fnc player_identifier\n",
    "        \n",
    "        for player in players:\n",
    "            #check if no one has won and if the board still has an empty space to be filled\n",
    "            \n",
    "            if check_win()== False and ' ' in board:\n",
    "                while position.isdigit()== False or position not in accepted:\n",
    "                    position= input('Select a position (1-9): ')\n",
    "                    \n",
    "                    if position.isdigit() and int(position) in accepted:\n",
    "                        index = int(position)\n",
    "                        \n",
    "                        if board[index] == ' ':\n",
    "                            board[index]=player\n",
    "                            break\n",
    "                        else:\n",
    "                            print('Position filled')\n",
    "                        \n",
    "                    else:\n",
    "                        print('Invalid')\n",
    "                board_display(board)\n",
    "                \n",
    "            elif check_win() == True:\n",
    "                if players.index(winner) == 0:\n",
    "                    print('Congratulations Player 1, you won!')\n",
    "                    replay()\n",
    "                    gamestate= False\n",
    "                    break\n",
    "                else:\n",
    "                    print('Congratulations Player 2, you won!')\n",
    "                    replay()\n",
    "            else:\n",
    "                print('Stalemate!')\n",
    "                replay()"
   ]
  },
  {
   "cell_type": "code",
   "execution_count": 6,
   "metadata": {},
   "outputs": [],
   "source": [
    "#To replay the game\n",
    "\n",
    "def replay():\n",
    "    replay = 'WRONG'\n",
    "    while replay not in ['Y','N']:\n",
    "        replay = input('Do you want to replay? (Y or N)')\n",
    "        replay= replay.upper()\n",
    "    if replay == 'N':\n",
    "        clear_output()\n",
    "        print('Goodbye')\n",
    "        gamestate = False\n",
    "    else:\n",
    "        playgame()"
   ]
  },
  {
   "cell_type": "code",
   "execution_count": 7,
   "metadata": {},
   "outputs": [],
   "source": [
    "#To run the whole logic to play the game\n",
    "\n",
    "def playgame():\n",
    "    print('Welcome to tic tac toe')\n",
    "    players = player_identifier()\n",
    "    reset()\n",
    "    player_input(players)"
   ]
  },
  {
   "cell_type": "code",
   "execution_count": 8,
   "metadata": {},
   "outputs": [
    {
     "name": "stdout",
     "output_type": "stream",
     "text": [
      "Goodbye\n"
     ]
    }
   ],
   "source": [
    "playgame()"
   ]
  },
  {
   "cell_type": "code",
   "execution_count": null,
   "metadata": {},
   "outputs": [],
   "source": []
  }
 ],
 "metadata": {
  "kernelspec": {
   "display_name": "Python 3",
   "language": "python",
   "name": "python3"
  },
  "language_info": {
   "codemirror_mode": {
    "name": "ipython",
    "version": 3
   },
   "file_extension": ".py",
   "mimetype": "text/x-python",
   "name": "python",
   "nbconvert_exporter": "python",
   "pygments_lexer": "ipython3",
   "version": "3.8.5"
  }
 },
 "nbformat": 4,
 "nbformat_minor": 4
}
